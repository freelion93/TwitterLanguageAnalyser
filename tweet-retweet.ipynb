{
 "cells": [
  {
   "cell_type": "code",
   "execution_count": 28,
   "metadata": {},
   "outputs": [
    {
     "name": "stdout",
     "output_type": "stream",
     "text": [
      "0.17109026719160222\n",
      "0.15002069429101433\n",
      "0.1868854282042458\n",
      "[{'category': '0', 'position': 0, 'value': 0.0}, {'category': '0', 'position': 1, 'value': 0.0}, {'category': 'ar', 'position': 0, 'value': 0.08752030125305242}, {'category': 'ar', 'position': 1, 'value': 0.11986327611480092}, {'category': 'de', 'position': 0, 'value': 0.15206321050608498}, {'category': 'de', 'position': 1, 'value': 0.22654103252856064}, {'category': 'en', 'position': 0, 'value': 0.14611558357163293}, {'category': 'en', 'position': 1, 'value': 0.18753113548532344}, {'category': 'es', 'position': 0, 'value': 0.1826885537777973}, {'category': 'es', 'position': 1, 'value': 0.23769063784769087}, {'category': 'fr', 'position': 0, 'value': 0.19924220770173814}, {'category': 'fr', 'position': 1, 'value': 0.2924612533473383}, {'category': 'it', 'position': 0, 'value': 0.18273261037739147}, {'category': 'it', 'position': 1, 'value': 0.2829701669780271}, {'category': 'ja', 'position': 0, 'value': 0.15470279457111105}, {'category': 'ja', 'position': 1, 'value': 0.1315484111046445}, {'category': 'nl', 'position': 0, 'value': 0.1947321022550265}, {'category': 'nl', 'position': 1, 'value': 0.22617117829975628}, {'category': 'pt', 'position': 0, 'value': 0.15660288252129526}, {'category': 'pt', 'position': 1, 'value': 0.1404341452157184}, {'category': 'ru', 'position': 0, 'value': 0.14711201131081925}, {'category': 'ru', 'position': 1, 'value': 0.14150148204540552}]\n"
     ]
    }
   ],
   "source": [
    "%matplotlib inline\n",
    "import pandas as pd\n",
    "import matplotlib.pyplot as plt\n",
    "\n",
    "# kickoff 17:01, \n",
    "# goal at: 12, 43, 71, 91, 94\n",
    "\n",
    "df = pd.read_csv('first-game-panda-frame_big.csv')\n",
    "\n",
    "df['time_ms'] = pd.to_datetime(df['time_ms'], unit='ms')\n",
    "df = df.set_index('time_ms')\n",
    "\n",
    "v = 'joy' #sentiment,anger,joy,sadness,fear,surprise\n",
    "print(df[v].mean())\n",
    "print(df[df['is_retweet'] == 0][v].mean())\n",
    "print(df[df['is_retweet'] == 1][v].mean())\n",
    "\n",
    "a = df.groupby('lang')[v].mean()\n",
    "b = df[df['is_retweet'] == 0].groupby('lang')[v].mean()\n",
    "c = df[df['is_retweet'] == 1].groupby('lang')[v].mean()\n",
    "\n",
    "result = []\n",
    "\n",
    "for idx, l in enumerate(a.index):       \n",
    "    result.append(dict(\n",
    "        category = l,\n",
    "        position = 0,\n",
    "        value = b[idx]\n",
    "    )) \n",
    "    result.append(dict(\n",
    "        category = l,\n",
    "        position = 1,\n",
    "        value = c[idx]\n",
    "    )) \n",
    "\n",
    "print(result)"
   ]
  }
 ],
 "metadata": {
  "kernelspec": {
   "display_name": "Python 3",
   "language": "python",
   "name": "python3"
  },
  "language_info": {
   "codemirror_mode": {
    "name": "ipython",
    "version": 3
   },
   "file_extension": ".py",
   "mimetype": "text/x-python",
   "name": "python",
   "nbconvert_exporter": "python",
   "pygments_lexer": "ipython3",
   "version": "3.6.3"
  }
 },
 "nbformat": 4,
 "nbformat_minor": 2
}
