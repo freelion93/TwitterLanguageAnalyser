{
 "cells": [
  {
   "cell_type": "code",
   "execution_count": 4,
   "metadata": {},
   "outputs": [
    {
     "data": {
      "text/html": [
       "<iframe id=\"igraph\" scrolling=\"no\" style=\"border:none;\" seamless=\"seamless\" src=\"https://plot.ly/~MichaelGlatzhofer/22.embed\" height=\"800px\" width=\"100%\"></iframe>"
      ],
      "text/plain": [
       "<plotly.tools.PlotlyDisplay object>"
      ]
     },
     "execution_count": 4,
     "metadata": {},
     "output_type": "execute_result"
    }
   ],
   "source": [
    "import plotly.plotly as py\n",
    "import pandas as pd\n",
    "\n",
    "df = pd.read_csv('https://raw.githubusercontent.com/plotly/datasets/master/2014_us_cities.csv')\n",
    "df.head()\n",
    "\n",
    "df['text'] = df['name'] + '<br>Population ' + (df['pop']/1e6).astype(str)+' million'\n",
    "limits = [(0,2),(3,10),(11,20),(21,50),(50,3000)]\n",
    "colors = [\"rgb(0,116,217)\",\"rgb(255,65,54)\",\"rgb(133,20,75)\",\"rgb(255,133,27)\",\"lightgrey\"]\n",
    "cities = []\n",
    "scale = 5000\n",
    "\n",
    "for i in range(len(limits)):\n",
    "    lim = limits[i]\n",
    "    df_sub = df[lim[0]:lim[1]]\n",
    "    city = dict(\n",
    "        type = 'scattergeo',\n",
    "        locationmode = 'USA-states',\n",
    "        lon = df_sub['lon'],\n",
    "        lat = df_sub['lat'],\n",
    "        text = df_sub['text'],\n",
    "        marker = dict(\n",
    "            size = df_sub['pop']/scale,\n",
    "            color = colors[i],\n",
    "            line = dict(width=0.5, color='rgb(40,40,40)'),\n",
    "            sizemode = 'area'\n",
    "        ),\n",
    "        name = '{0} - {1}'.format(lim[0],lim[1]) )\n",
    "    cities.append(city)\n",
    "\n",
    "layout = dict(\n",
    "    height=800,   \n",
    "    showlegend= False,\n",
    "    geo= dict(       \n",
    "        #showocean= True,            \n",
    "        #showland= True,            \n",
    "        #showlakes= True,            \n",
    "        showcountries= True,        \n",
    "    )\n",
    ")\n",
    "\n",
    "fig = dict( data=cities, layout=layout )\n",
    "py.iplot( fig, validate=False, filename='d3-bubble-map-populations' )\n"
   ]
  },
  {
   "cell_type": "code",
   "execution_count": 15,
   "metadata": {},
   "outputs": [
    {
     "data": {
      "application/geo+json": {
       "geometry": {
        "coordinates": [
         [
          10,
          40
         ],
         [
          40,
          30
         ],
         [
          20,
          20
         ],
         [
          30,
          10
         ]
        ],
        "type": "MultiPoint"
       },
       "type": "Feature"
      },
      "text/plain": [
       "<IPython.display.GeoJSON object>"
      ]
     },
     "metadata": {
      "application/geo+json": {
       "expanded": false
      }
     },
     "output_type": "display_data"
    }
   ],
   "source": [
    "from IPython.display import GeoJSON\n",
    "\n",
    "GeoJSON({\n",
    "    \"type\": \"Feature\",\n",
    "    \"geometry\": {\n",
    "        \"type\": \"Point\",\n",
    "        \"coordinates\": [-118.4563712, 34.0163116]\n",
    "    },\n",
    "    \"properties\": {\n",
    "        \"title\": \"Mapbox SF\",\n",
    "        \"icon\": \"harbor\"\n",
    "    }\n",
    "})\n",
    "GeoJSON({\n",
    "    \"type\": \"Feature\",\n",
    "     \"geometry\": {\n",
    "        \"type\": \"MultiPoint\",\n",
    "        \"coordinates\": [[10, 40], [40, 30], [20, 20], [30, 10]]\n",
    "    }    \n",
    "})\n"
   ]
  },
  {
   "cell_type": "code",
   "execution_count": 6,
   "metadata": {},
   "outputs": [
    {
     "data": {
      "application/vnd.vegalite.v1+json": {
       "$schema": "https://vega.github.io/schema/vega-lite/v1.json",
       "data": {
        "values": [
         {
          "a": "A",
          "b": 28
         },
         {
          "a": "B",
          "b": 55
         },
         {
          "a": "C",
          "b": 43
         },
         {
          "a": "D",
          "b": 91
         },
         {
          "a": "E",
          "b": 81
         },
         {
          "a": "F",
          "b": 53
         },
         {
          "a": "G",
          "b": 19
         },
         {
          "a": "H",
          "b": 87
         },
         {
          "a": "I",
          "b": 52
         }
        ]
       },
       "description": "A simple bar chart with embedded data.",
       "encoding": {
        "x": {
         "field": "a",
         "type": "ordinal"
        },
        "y": {
         "field": "b",
         "type": "quantitative"
        }
       },
       "mark": "bar"
      },
      "image/png": "[encoded data removed]"
     },
     "metadata": {},
     "output_type": "display_data"
    }
   ],
   "source": [
    "from IPython.display import display\n",
    "\n",
    "display({\n",
    "    \"application/vnd.vegalite.v1+json\": {\n",
    "        \"$schema\": \"https://vega.github.io/schema/vega-lite/v1.json\",\n",
    "        \"description\": \"A simple bar chart with embedded data.\",\n",
    "        \"data\": {\n",
    "            \"values\": [\n",
    "                {\"a\": \"A\", \"b\": 28}, {\"a\": \"B\", \"b\": 55}, {\"a\": \"C\", \"b\": 43},\n",
    "                {\"a\": \"D\", \"b\": 91}, {\"a\": \"E\", \"b\": 81}, {\"a\": \"F\", \"b\": 53},\n",
    "                {\"a\": \"G\", \"b\": 19}, {\"a\": \"H\", \"b\": 87}, {\"a\": \"I\", \"b\": 52}\n",
    "            ]\n",
    "        },\n",
    "        \"mark\": \"bar\",\n",
    "        \"encoding\": {\n",
    "            \"x\": {\"field\": \"a\", \"type\": \"ordinal\"},\n",
    "            \"y\": {\"field\": \"b\", \"type\": \"quantitative\"}\n",
    "        }\n",
    "    }\n",
    "}, raw=True)"
   ]
  },
  {
   "cell_type": "code",
   "execution_count": 6,
   "metadata": {},
   "outputs": [
    {
     "name": "stdout",
     "output_type": "stream",
     "text": [
      "hallo\n"
     ]
    },
    {
     "data": {
      "application/geo+json": {
       "geometry": {
        "coordinates": [
         [
          2.3488,
          48.85341
         ],
         [
          80.75,
          7.75
         ],
         [
          -75.69812,
          45.41117
         ],
         [
          67.0104,
          24.8608
         ],
         [
          -81.39314,
          30.29469
         ],
         [
          19.03991,
          47.49801
         ],
         [
          -79.4163,
          43.70011
         ],
         [
          -74.08175,
          4.60971
         ],
         [
          -57.65625,
          -14.60485
         ],
         [
          -81.39314,
          30.29469
         ],
         [
          -2.23333,
          53.45
         ],
         [
          24,
          -29
         ],
         [
          27.91162,
          -33.01529
         ],
         [
          -57.65625,
          -14.60485
         ],
         [
          106.9896,
          -6.2349
         ],
         [
          74.87534,
          31.62234
         ],
         [
          -0.12574,
          51.50853
         ],
         [
          -0.45649,
          51.47115
         ],
         [
          2.3488,
          48.85341
         ],
         [
          55.30557,
          25.06765
         ],
         [
          77.23149,
          28.65195
         ],
         [
          55.30557,
          25.06765
         ],
         [
          73.85535,
          18.51957
         ],
         [
          55.30557,
          25.06765
         ],
         [
          -117.00371,
          32.5027
         ],
         [
          106.84513,
          -6.21462
         ],
         [
          79,
          22
         ],
         [
          8.69254,
          47.37099
         ],
         [
          80.00245,
          12.73827
         ],
         [
          13.41053,
          52.52437
         ],
         [
          -57.65625,
          -14.60485
         ],
         [
          55.30557,
          25.06765
         ],
         [
          22,
          39
         ],
         [
          22,
          39
         ],
         [
          22,
          39
         ],
         [
          46.72185,
          24.68773
         ],
         [
          22,
          39
         ],
         [
          80.27847,
          13.08784
         ],
         [
          -0.12574,
          51.50853
         ],
         [
          -76.88442,
          40.2737
         ],
         [
          -98.06972,
          27.75225
         ],
         [
          -74.08175,
          4.60971
         ],
         [
          -85.25607,
          34.96341
         ],
         [
          55.30557,
          25.06765
         ],
         [
          11.57549,
          48.13743
         ],
         [
          -85.25607,
          34.96341
         ],
         [
          80.27847,
          13.08784
         ],
         [
          -80.19366,
          25.77427
         ],
         [
          2.27485,
          48.91936
         ],
         [
          -4,
          40
         ],
         [
          -0.12574,
          51.50853
         ],
         [
          -4,
          40
         ],
         [
          10.74609,
          59.91273
         ],
         [
          -0.12574,
          51.50853
         ],
         [
          -80.13005,
          25.79065
         ],
         [
          -57.65625,
          -14.60485
         ],
         [
          -4,
          40
         ],
         [
          -0.12574,
          51.50853
         ],
         [
          -4,
          40
         ],
         [
          7.42676,
          50.21909
         ],
         [
          100,
          60
         ],
         [
          -4,
          40
         ],
         [
          -0.12574,
          51.50853
         ],
         [
          -76.88442,
          40.2737
         ],
         [
          -74.08175,
          4.60971
         ],
         [
          -80.31269,
          43.3601
         ],
         [
          77.59369,
          12.97194
         ],
         [
          -2.01667,
          52.5
         ],
         [
          -116.78467,
          34.68743
         ],
         [
          -96.89028,
          32.95373
         ],
         [
          -118.24368,
          34.05223
         ],
         [
          77.23149,
          28.65195
         ],
         [
          72.88261,
          19.07283
         ],
         [
          24,
          -29
         ],
         [
          5.62575,
          6.33815
         ],
         [
          -1.2,
          8.1
         ],
         [
          -0.28371,
          51.44269
         ],
         [
          -132.1875,
          3.51342
         ],
         [
          -57.65625,
          -14.60485
         ],
         [
          -2.23333,
          53.45
         ],
         [
          -74.07764,
          40.72816
         ],
         [
          -70.81896,
          48.86948
         ],
         [
          -70.81896,
          48.86948
         ],
         [
          -70.81896,
          48.86948
         ],
         [
          -70.81896,
          48.86948
         ],
         [
          -0.12574,
          51.50853
         ],
         [
          -98.06972,
          27.75225
         ],
         [
          -76.88442,
          40.2737
         ],
         [
          6.23955,
          46.38318
         ],
         [
          77.23149,
          28.65195
         ],
         [
          55.30557,
          25.06765
         ],
         [
          -70.81896,
          48.86948
         ],
         [
          -70.81896,
          48.86948
         ],
         [
          72.88261,
          19.07283
         ],
         [
          -116.78467,
          34.68743
         ],
         [
          -74.00597,
          40.71427
         ],
         [
          -122.03218,
          37.323
         ],
         [
          -57.65625,
          -14.60485
         ],
         [
          0.11667,
          52.2
         ],
         [
          8.01427,
          47.00016
         ],
         [
          80.27847,
          13.08784
         ],
         [
          5.62575,
          6.33815
         ],
         [
          -4.72372,
          41.65518
         ],
         [
          10.5,
          51.5
         ],
         [
          80.27847,
          13.08784
         ],
         [
          -104.9847,
          39.73915
         ],
         [
          -71.05977,
          42.35843
         ],
         [
          -122.41942,
          37.77493
         ],
         [
          8.01427,
          47.00016
         ],
         [
          79,
          22
         ],
         [
          8.01427,
          47.00016
         ],
         [
          -74.00597,
          40.71427
         ],
         [
          8.01427,
          47.00016
         ],
         [
          -121.95524,
          37.35411
         ],
         [
          -0.12574,
          51.50853
         ],
         [
          -77.25,
          18.16667
         ],
         [
          -73.94958,
          40.6501
         ]
        ],
        "type": "MultiPoint"
       },
       "type": "Feature"
      },
      "text/plain": [
       "<IPython.display.GeoJSON object>"
      ]
     },
     "metadata": {
      "application/geo+json": {
       "expanded": false
      }
     },
     "output_type": "display_data"
    }
   ],
   "source": [
    "from IPython.display import GeoJSON\n",
    "from IPython import display\n",
    "map = GeoJSON({    \n",
    "    \"type\": \"Feature\",\n",
    "     \"geometry\": {\n",
    "        \"type\": \"MultiPoint\",\n",
    "        \"coordinates\": [[2.3488,48.85341],\n",
    "[80.75,7.75],\n",
    "[-75.69812,45.41117],\n",
    "[67.0104,24.8608],\n",
    "[-81.39314,30.29469],\n",
    "[19.03991,47.49801],\n",
    "[-79.4163,43.70011],\n",
    "[-74.08175,4.60971],\n",
    "[-57.65625,-14.60485],\n",
    "[-81.39314,30.29469],\n",
    "[-2.23333,53.45],\n",
    "[24.0,-29.0],\n",
    "[27.91162,-33.01529],\n",
    "[-57.65625,-14.60485],\n",
    "[106.9896,-6.2349],\n",
    "[74.87534,31.62234],\n",
    "[-0.12574,51.50853],\n",
    "[-0.45649,51.47115],\n",
    "[2.3488,48.85341],\n",
    "[55.30557,25.06765],\n",
    "[77.23149,28.65195],\n",
    "[55.30557,25.06765],\n",
    "[73.85535,18.51957],\n",
    "[55.30557,25.06765],\n",
    "[-117.00371,32.5027],\n",
    "[106.84513,-6.21462],\n",
    "[79.0,22.0],\n",
    "[8.69254,47.37099],\n",
    "[80.00245,12.73827],\n",
    "[13.41053,52.52437],\n",
    "[-57.65625,-14.60485],\n",
    "[55.30557,25.06765],\n",
    "[22.0,39.0],\n",
    "[22.0,39.0],\n",
    "[22.0,39.0],\n",
    "[46.72185,24.68773],\n",
    "[22.0,39.0],\n",
    "[80.27847,13.08784],\n",
    "[-0.12574,51.50853],\n",
    "[-76.88442,40.2737],\n",
    "[-98.06972,27.75225],\n",
    "[-74.08175,4.60971],\n",
    "[-85.25607,34.96341],\n",
    "[55.30557,25.06765],\n",
    "[11.57549,48.13743],\n",
    "[-85.25607,34.96341],\n",
    "[80.27847,13.08784],\n",
    "[-80.19366,25.77427],\n",
    "[2.27485,48.91936],\n",
    "[-4.0,40.0],\n",
    "[-0.12574,51.50853],\n",
    "[-4.0,40.0],\n",
    "[10.74609,59.91273],\n",
    "[-0.12574,51.50853],\n",
    "[-80.13005,25.79065],\n",
    "[-57.65625,-14.60485],\n",
    "[-4.0,40.0],\n",
    "[-0.12574,51.50853],\n",
    "[-4.0,40.0],\n",
    "[7.42676,50.21909],\n",
    "[100.0,60.0],\n",
    "[-4.0,40.0],\n",
    "[-0.12574,51.50853],\n",
    "[-76.88442,40.2737],\n",
    "[-74.08175,4.60971],\n",
    "[-80.31269,43.3601],\n",
    "[77.59369,12.97194],\n",
    "[-2.01667,52.5],\n",
    "[-116.78467,34.68743],\n",
    "[-96.89028,32.95373],\n",
    "[-118.24368,34.05223],\n",
    "[77.23149,28.65195],\n",
    "[72.88261,19.07283],\n",
    "[24.0,-29.0],\n",
    "[5.62575,6.33815],\n",
    "[-1.2,8.1],\n",
    "[-0.28371,51.44269],\n",
    "[-132.1875,3.51342],\n",
    "[-57.65625,-14.60485],\n",
    "[-2.23333,53.45],\n",
    "[-74.07764,40.72816],\n",
    "[-70.81896,48.86948],\n",
    "[-70.81896,48.86948],\n",
    "[-70.81896,48.86948],\n",
    "[-70.81896,48.86948],\n",
    "[-0.12574,51.50853],\n",
    "[-98.06972,27.75225],\n",
    "[-76.88442,40.2737],\n",
    "[6.23955,46.38318],\n",
    "[77.23149,28.65195],\n",
    "[55.30557,25.06765],\n",
    "[-70.81896,48.86948],\n",
    "[-70.81896,48.86948],\n",
    "[72.88261,19.07283],\n",
    "[-116.78467,34.68743],\n",
    "[-74.00597,40.71427],\n",
    "[-122.03218,37.323],\n",
    "[-57.65625,-14.60485],\n",
    "[0.11667,52.2],\n",
    "[8.01427,47.00016],\n",
    "[80.27847,13.08784],\n",
    "[5.62575,6.33815],\n",
    "[-4.72372,41.65518],\n",
    "[10.5,51.5],\n",
    "[80.27847,13.08784],\n",
    "[-104.9847,39.73915],\n",
    "[-71.05977,42.35843],\n",
    "[-122.41942,37.77493],\n",
    "[8.01427,47.00016],\n",
    "[79.0,22.0],\n",
    "[8.01427,47.00016],\n",
    "[-74.00597,40.71427],\n",
    "[8.01427,47.00016],\n",
    "[-121.95524,37.35411],\n",
    "[-0.12574,51.50853],\n",
    "[-77.25,18.16667],\n",
    "[-73.94958,40.6501],]\n",
    "    }    \n",
    "})\n",
    "print(\"hallo\")\n",
    "display.display(map, height='800px')"
   ]
  }
 ],
 "metadata": {
  "kernelspec": {
   "display_name": "Python 3",
   "language": "python",
   "name": "python3"
  },
  "language_info": {
   "codemirror_mode": {
    "name": "ipython",
    "version": 3
   },
   "file_extension": ".py",
   "mimetype": "text/x-python",
   "name": "python",
   "nbconvert_exporter": "python",
   "pygments_lexer": "ipython3",
   "version": "3.6.3"
  }
 },
 "nbformat": 4,
 "nbformat_minor": 2
}
